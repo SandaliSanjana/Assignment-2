{
 "cells": [
  {
   "cell_type": "code",
   "execution_count": 10,
   "metadata": {},
   "outputs": [
    {
     "name": "stdout",
     "output_type": "stream",
     "text": [
      "Estimated value of the crop field angle based on the least-squares-fit: -44.38702510610566 degrees\n"
     ]
    }
   ],
   "source": [
    "import numpy as np\n",
    "import cv2 as cv\n",
    "import matplotlib.pyplot as plt\n",
    "\n",
    "img = cv.imread('Crop_field_cropped.jpg', cv.IMREAD_GRAYSCALE)\n",
    "assert img is not None\n",
    "edges = cv.Canny(img,550,690)\n",
    "indices = np . where ( edges != [ 0 ] )\n",
    "x=indices [ 1 ]\n",
    "y=indices [ 0 ]\n",
    " \n",
    "coefficients = np.polyfit(x, y, 1)\n",
    "poly = np.poly1d(coefficients)\n",
    "slope = coefficients[0]  # Slope of the least-squares-fit line\n",
    "\n",
    "angle_radians = np.arctan(slope)\n",
    "angle_degrees = np.degrees(angle_radians)\n",
    "\n",
    "print(\"Estimated value of the crop field angle based on the least-squares-fit:\", angle_degrees, \"degrees\")"
   ]
  }
 ],
 "metadata": {
  "kernelspec": {
   "display_name": "Python 3",
   "language": "python",
   "name": "python3"
  },
  "language_info": {
   "codemirror_mode": {
    "name": "ipython",
    "version": 3
   },
   "file_extension": ".py",
   "mimetype": "text/x-python",
   "name": "python",
   "nbconvert_exporter": "python",
   "pygments_lexer": "ipython3",
   "version": "3.12.2"
  }
 },
 "nbformat": 4,
 "nbformat_minor": 2
}
