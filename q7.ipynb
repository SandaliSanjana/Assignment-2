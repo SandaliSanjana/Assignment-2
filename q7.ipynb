{
 "cells": [
  {
   "cell_type": "code",
   "execution_count": 2,
   "metadata": {},
   "outputs": [
    {
     "name": "stdout",
     "output_type": "stream",
     "text": [
      "Value of the crop field angle based on the total least-squares-fit: -22.026565186321758 degrees\n"
     ]
    }
   ],
   "source": [
    "import numpy as np\n",
    "import cv2 as cv\n",
    "import matplotlib.pyplot as plt\n",
    "\n",
    "img = cv.imread('Crop_field_cropped.jpg', cv.IMREAD_GRAYSCALE)\n",
    "assert img is not None\n",
    "edges = cv.Canny(img, 550, 690)\n",
    "indices = np.where(edges != [0])\n",
    "x = indices[1]\n",
    "y = indices[0]\n",
    "\n",
    "coefficients = np.polyfit(x, y, 1)\n",
    "poly = np.poly1d(coefficients)\n",
    "slope = coefficients[0] \n",
    "\n",
    "data_matrix = np.vstack([x, y]).T\n",
    "center_point = np.mean(data_matrix, axis=0)\n",
    "data_centeroid = data_matrix - center_point\n",
    "U, S, Vt = np.linalg.svd(data_centeroid, full_matrices=False)\n",
    "angle = -Vt[0, 0] / Vt[1, 0]\n",
    "interception_point = center_point[1] - angle * center_point[0]\n",
    "fitted_tls_line = angle * x + interception_point\n",
    "\n",
    "angle_radians = np.arctan(angle)\n",
    "angle_degrees = np.degrees(angle_radians)\n",
    "print(\"Value of the crop field angle based on the total least-squares-fit:\", angle_degrees, \"degrees\")"
   ]
  }
 ],
 "metadata": {
  "kernelspec": {
   "display_name": "Python 3",
   "language": "python",
   "name": "python3"
  },
  "language_info": {
   "codemirror_mode": {
    "name": "ipython",
    "version": 3
   },
   "file_extension": ".py",
   "mimetype": "text/x-python",
   "name": "python",
   "nbconvert_exporter": "python",
   "pygments_lexer": "ipython3",
   "version": "3.12.2"
  }
 },
 "nbformat": 4,
 "nbformat_minor": 2
}
